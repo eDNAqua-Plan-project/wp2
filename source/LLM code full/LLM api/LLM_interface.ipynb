{
 "cells": [
  {
   "cell_type": "markdown",
   "id": "b9deeb49",
   "metadata": {},
   "source": [
    "title=LLM_interface\n",
    "\n",
    "version=0.1 (beta)\n",
    "\n",
    "date=24.06.2024\n",
    "\n",
    "authors=Yulyana Kalesnik, Dawid Krawczyk"
   ]
  },
  {
   "cell_type": "markdown",
   "id": "dc864028",
   "metadata": {},
   "source": [
    "Importing libraries"
   ]
  },
  {
   "cell_type": "markdown",
   "id": "54ec9beb",
   "metadata": {},
   "source": [
    "Definition of device map"
   ]
  },
  {
   "cell_type": "code",
   "execution_count": 1,
   "id": "53f9bc67",
   "metadata": {},
   "outputs": [],
   "source": [
    "from LLM_connector import LLM_connector"
   ]
  },
  {
   "cell_type": "code",
   "execution_count": 2,
   "id": "a20d9de1",
   "metadata": {},
   "outputs": [],
   "source": [
    "from LlamaExpert import LlamaExpert"
   ]
  },
  {
   "cell_type": "code",
   "execution_count": 3,
   "id": "43555640",
   "metadata": {},
   "outputs": [
    {
     "data": {
      "application/vnd.jupyter.widget-view+json": {
       "model_id": "1167063d77384a629b209afd876ab97d",
       "version_major": 2,
       "version_minor": 0
      },
      "text/plain": [
       "Loading checkpoint shards:   0%|          | 0/6 [00:00<?, ?it/s]"
      ]
     },
     "metadata": {},
     "output_type": "display_data"
    }
   ],
   "source": [
    "from LLM_interface import *"
   ]
  },
  {
   "cell_type": "code",
   "execution_count": 4,
   "id": "2a3fb50e",
   "metadata": {},
   "outputs": [
    {
     "name": "stdout",
     "output_type": "stream",
     "text": [
      " * Serving Flask app 'LLM_interface'\n",
      " * Debug mode: off\n"
     ]
    },
    {
     "name": "stderr",
     "output_type": "stream",
     "text": [
      "\u001b[31m\u001b[1mWARNING: This is a development server. Do not use it in a production deployment. Use a production WSGI server instead.\u001b[0m\n",
      " * Running on http://127.0.0.1:5000\n",
      "\u001b[33mPress CTRL+C to quit\u001b[0m\n"
     ]
    },
    {
     "name": "stdout",
     "output_type": "stream",
     "text": [
      "Creating the vectore store please wait...\n",
      "KMS stands for Key Management Service.\n"
     ]
    },
    {
     "name": "stderr",
     "output_type": "stream",
     "text": [
      "127.0.0.1 - - [15/Jul/2024 13:04:44] \"POST /llm HTTP/1.1\" 200 -\n"
     ]
    }
   ],
   "source": [
    "app.run()"
   ]
  },
  {
   "cell_type": "code",
   "execution_count": null,
   "id": "d534d60a",
   "metadata": {},
   "outputs": [],
   "source": []
  },
  {
   "cell_type": "code",
   "execution_count": 3,
   "id": "144dd78e",
   "metadata": {},
   "outputs": [],
   "source": [
    "device_map = {'model.embed_tokens': 0, 'model.layers.0': 0, 'model.layers.1': 0, 'model.layers.2': 0, 'model.layers.3': 0, \n",
    "              'model.layers.4': 0, 'model.layers.5': 0, 'model.layers.6': 0, 'model.layers.7': 1, 'model.layers.8': 1, \n",
    "              'model.layers.9': 1, 'model.layers.10': 1, 'model.layers.11': 1, 'model.layers.12': 1, 'model.layers.13': 1, \n",
    "              'model.layers.14': 1, 'model.layers.15': 2, 'model.layers.16': 2, 'model.layers.17': 2, 'model.layers.18': 2, \n",
    "              'model.layers.19': 2, 'model.layers.20': 2, 'model.layers.21': 2, 'model.layers.22': 2, 'model.layers.23': 3, \n",
    "              'model.layers.24': 3, 'model.layers.25': 3, 'model.layers.26': 3, 'model.layers.27': 3, 'model.layers.28': 3, \n",
    "              'model.layers.29': 3, 'model.layers.30': 3, 'model.layers.31': 3, 'model.layers.32': 4, 'model.layers.33': 4, \n",
    "              'model.layers.34': 4, 'model.layers.35': 4, 'model.layers.36': 4, 'model.layers.37': 4, 'model.layers.38': 4, \n",
    "              'model.layers.39': 4, 'model.norm': 4, 'lm_head': 4}"
   ]
  },
  {
   "cell_type": "markdown",
   "id": "8ef50cbd",
   "metadata": {},
   "source": [
    "Class that creates LLM model"
   ]
  },
  {
   "cell_type": "code",
   "execution_count": 4,
   "id": "63655fcd",
   "metadata": {},
   "outputs": [
    {
     "data": {
      "application/vnd.jupyter.widget-view+json": {
       "model_id": "4bbb0858e72d45878a0d6b50bbcd27d2",
       "version_major": 2,
       "version_minor": 0
      },
      "text/plain": [
       "Loading checkpoint shards:   0%|          | 0/6 [00:00<?, ?it/s]"
      ]
     },
     "metadata": {},
     "output_type": "display_data"
    }
   ],
   "source": [
    "llama_model = LLM_connector(\"./llama-2-13b-chat-hf\",device_map=device_map, temperature=.1,\n",
    "                 max_new_tokens=100, repetition_penalty=1.1, use_cache=True, num_returns=1,\n",
    "                 top_k=5, do_sample=True)\n",
    "llama_expert = LlamaExpert(llama_model)"
   ]
  },
  {
   "cell_type": "markdown",
   "id": "faa17719",
   "metadata": {},
   "source": [
    "Class that creates talking interface to model"
   ]
  },
  {
   "cell_type": "markdown",
   "id": "d2460608",
   "metadata": {},
   "source": [
    "Creating model and chatbot"
   ]
  },
  {
   "cell_type": "markdown",
   "id": "afcd87c1",
   "metadata": {},
   "source": [
    "API section"
   ]
  },
  {
   "cell_type": "code",
   "execution_count": 5,
   "id": "5b852912-a0fe-4dbe-9537-d93fb072dbb4",
   "metadata": {},
   "outputs": [
    {
     "name": "stdout",
     "output_type": "stream",
     "text": [
      " * Serving Flask app '__main__'\n",
      " * Debug mode: off\n"
     ]
    },
    {
     "name": "stderr",
     "output_type": "stream",
     "text": [
      "\u001b[31m\u001b[1mWARNING: This is a development server. Do not use it in a production deployment. Use a production WSGI server instead.\u001b[0m\n",
      " * Running on http://127.0.0.1:5000\n",
      "\u001b[33mPress CTRL+C to quit\u001b[0m\n"
     ]
    },
    {
     "name": "stdout",
     "output_type": "stream",
     "text": [
      "Creating the vectore store please wait...\n",
      "KMS stands for Key Management Service.\n"
     ]
    },
    {
     "name": "stderr",
     "output_type": "stream",
     "text": [
      "127.0.0.1 - - [15/Jul/2024 12:55:00] \"POST /llm HTTP/1.1\" 200 -\n"
     ]
    }
   ],
   "source": [
    "from flask import Flask, jsonify,request\n",
    "import subprocess\n",
    "\n",
    "app = Flask(__name__)\n",
    "\n",
    "@app.route('/llm', methods=['POST'])\n",
    "def get_answer():\n",
    "    # result = subprocess.check_output(['llm']).decode('utf-8')\n",
    "    # return jsonify({'date': result.strip()})\n",
    "    if request.method == 'POST':\n",
    "        data = request.json\n",
    "        resp = llama_expert.ask_question(data['Question'],data['Context'])\n",
    "        return jsonify({text[:text.find(':')].strip():text[text.find(':')+1:].strip() for text in resp.split('\\n')})\n",
    "    return jsonify({'Response':'No content'})\n",
    "\n",
    "@app.route('/checkConnection',methods=['POST'])\n",
    "def checkConnection():\n",
    "    return jsonify({'Connection':'OK'})\n",
    "\n",
    "if __name__ == '__main__':\n",
    "    app.run()"
   ]
  }
 ],
 "metadata": {
  "kernelspec": {
   "display_name": "Python 3 (ipykernel)",
   "language": "python",
   "name": "python3"
  },
  "language_info": {
   "codemirror_mode": {
    "name": "ipython",
    "version": 3
   },
   "file_extension": ".py",
   "mimetype": "text/x-python",
   "name": "python",
   "nbconvert_exporter": "python",
   "pygments_lexer": "ipython3",
   "version": "3.10.14"
  }
 },
 "nbformat": 4,
 "nbformat_minor": 5
}
